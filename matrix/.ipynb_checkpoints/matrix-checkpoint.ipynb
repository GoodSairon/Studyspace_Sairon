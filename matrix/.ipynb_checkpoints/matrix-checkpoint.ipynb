{
 "cells": [
  {
   "cell_type": "code",
   "execution_count": 332,
   "id": "d434d3a3-da56-491e-a601-2f5f81e7260b",
   "metadata": {
    "tags": []
   },
   "outputs": [],
   "source": [
    "import numpy as np"
   ]
  },
  {
   "cell_type": "code",
   "execution_count": 333,
   "id": "ec6ebdd5-b743-4a89-86f0-1f362a2741a1",
   "metadata": {
    "tags": []
   },
   "outputs": [],
   "source": [
    "class Matrix():\n",
    "    \n",
    "    def __init__(self, list_of_list):\n",
    "        \n",
    "        self.arr = np.array(list_of_list)\n",
    "        \n",
    "    def print_matrix(self):\n",
    "        \n",
    "        print(self.arr)\n",
    "        \n",
    "    def trans_matrix(self):\n",
    "        \n",
    "        return self.arr.T\n",
    "    \n",
    "    def plus_matrix(self, matrix):\n",
    "\n",
    "        return self.arr + matrix.arr\n",
    "    \n",
    "    def minus_matrix(self, matrix):\n",
    "\n",
    "        return self.arr - matrix.arr\n",
    "    \n",
    "    def mlt_matrix_by_number(self, number):\n",
    "        \n",
    "        return self.arr * number\n",
    "    \n",
    "    def mlt_matrix_by_matrix(self, matrix):\n",
    "        \n",
    "        return self.arr * matrix.trans_matrix()\n",
    "    \n",
    "    def dvs_matrix_by_number(self, number):\n",
    "        \n",
    "        return self.arr / number"
   ]
  },
  {
   "cell_type": "code",
   "execution_count": 334,
   "id": "a061f002-3da8-4216-8e90-bb9261f15a25",
   "metadata": {
    "tags": []
   },
   "outputs": [],
   "source": [
    "a = [[4, 2, 0], [1, 3, 2], [-1, 3, 10]]\n",
    "A = Matrix(a)\n",
    "b = [[7, 8, 1], [5, 6, 3], [2, 4, -2]]\n",
    "B = Matrix(b)"
   ]
  },
  {
   "cell_type": "code",
   "execution_count": 335,
   "id": "6f91fdb5-8ce6-49f7-9517-b328090ce38a",
   "metadata": {
    "tags": []
   },
   "outputs": [
    {
     "name": "stdout",
     "output_type": "stream",
     "text": [
      "[[ 4  2  0]\n",
      " [ 1  3  2]\n",
      " [-1  3 10]]\n",
      "[[ 7  8  1]\n",
      " [ 5  6  3]\n",
      " [ 2  4 -2]]\n"
     ]
    }
   ],
   "source": [
    "A.print_matrix()\n",
    "B.print_matrix()"
   ]
  },
  {
   "cell_type": "code",
   "execution_count": 336,
   "id": "e4d16006-98b5-4664-8647-88431057a1b0",
   "metadata": {
    "tags": []
   },
   "outputs": [
    {
     "name": "stdout",
     "output_type": "stream",
     "text": [
      "[[11 10  1]\n",
      " [ 6  9  5]\n",
      " [ 1  7  8]]\n",
      "[[-3 -6 -1]\n",
      " [-4 -3 -1]\n",
      " [-3 -1 12]]\n"
     ]
    }
   ],
   "source": [
    "print(A.plus_matrix(B))\n",
    "print(A.minus_matrix(B))"
   ]
  },
  {
   "cell_type": "code",
   "execution_count": 337,
   "id": "f3c914cd-63ba-427b-a663-94881f582f2a",
   "metadata": {
    "tags": []
   },
   "outputs": [
    {
     "name": "stdout",
     "output_type": "stream",
     "text": [
      "[[ 4  1 -1]\n",
      " [ 2  3  3]\n",
      " [ 0  2 10]]\n"
     ]
    }
   ],
   "source": [
    "print(A.trans_matrix())"
   ]
  },
  {
   "cell_type": "code",
   "execution_count": 338,
   "id": "23884e13-77f4-46ca-8331-8ef2ca4b7988",
   "metadata": {
    "tags": []
   },
   "outputs": [
    {
     "name": "stdout",
     "output_type": "stream",
     "text": [
      "[[16  8  0]\n",
      " [ 4 12  8]\n",
      " [-4 12 40]]\n",
      "[[ 28  10   0]\n",
      " [  8  18   8]\n",
      " [ -1   9 -20]]\n"
     ]
    }
   ],
   "source": [
    "print(A.mlt_matrix_by_number(4))\n",
    "print(A.mlt_matrix_by_matrix(B))"
   ]
  },
  {
   "cell_type": "code",
   "execution_count": 339,
   "id": "d5e89504-8870-45f5-bbc2-29f0b9e31237",
   "metadata": {
    "tags": []
   },
   "outputs": [
    {
     "name": "stdout",
     "output_type": "stream",
     "text": [
      "[[ 1  3  2]\n",
      " [ 4  2  0]\n",
      " [-1  3 10]]\n"
     ]
    }
   ],
   "source": [
    "C = Matrix(A.arr[0, :])\n",
    "A.arr[0, :], A.arr[1, :] = A.arr[1, :], C.arr\n",
    "A.print_matrix()"
   ]
  },
  {
   "cell_type": "code",
   "execution_count": 340,
   "id": "815675f6-ff8a-4f25-8cb3-71b979a06af0",
   "metadata": {
    "tags": []
   },
   "outputs": [
    {
     "name": "stdout",
     "output_type": "stream",
     "text": [
      "[[  1   3   2]\n",
      " [  0 -10  -8]\n",
      " [  0   6  12]]\n"
     ]
    }
   ],
   "source": [
    "A.arr[1, :] = Matrix(A.arr[1, :]).plus_matrix(Matrix(Matrix(A.arr[0, :]).mlt_matrix_by_number(-4)))\n",
    "A.arr[2, :] = Matrix(A.arr[2, :]).plus_matrix(Matrix(A.arr[0, :]))\n",
    "A.print_matrix()"
   ]
  },
  {
   "cell_type": "code",
   "execution_count": 341,
   "id": "d9b03bad-1a9f-4b86-8116-3c00d1811be4",
   "metadata": {
    "tags": []
   },
   "outputs": [
    {
     "name": "stdout",
     "output_type": "stream",
     "text": [
      "[[1 3 2]\n",
      " [0 5 4]\n",
      " [0 1 2]]\n"
     ]
    }
   ],
   "source": [
    "A.arr[1, :] = Matrix(A.arr[1, :]).dvs_matrix_by_number(-2)\n",
    "A.arr[2, :] = Matrix(A.arr[2, :]).dvs_matrix_by_number(6)\n",
    "A.print_matrix()"
   ]
  },
  {
   "cell_type": "code",
   "execution_count": 342,
   "id": "cf512705-621a-4af5-a06a-797e3b0a86a6",
   "metadata": {
    "tags": []
   },
   "outputs": [
    {
     "name": "stdout",
     "output_type": "stream",
     "text": [
      "[[1 3 2]\n",
      " [0 1 2]\n",
      " [0 5 4]]\n"
     ]
    }
   ],
   "source": [
    "C = Matrix(A.arr[1, :])\n",
    "A.arr[1, :], A.arr[2, :] = A.arr[2, :], C.arr\n",
    "A.print_matrix()"
   ]
  },
  {
   "cell_type": "code",
   "execution_count": 343,
   "id": "b4e420de-622f-4412-a0fc-248072c38bf4",
   "metadata": {
    "tags": []
   },
   "outputs": [
    {
     "name": "stdout",
     "output_type": "stream",
     "text": [
      "[[ 1  3  2]\n",
      " [ 0  1  2]\n",
      " [ 0  0 -6]]\n"
     ]
    }
   ],
   "source": [
    "A.arr[2, :] = Matrix(A.arr[2, :]).plus_matrix(Matrix(Matrix(A.arr[1, :]).mlt_matrix_by_number(-5)))\n",
    "A.print_matrix()"
   ]
  },
  {
   "cell_type": "code",
   "execution_count": null,
   "id": "f7c59bff-b8b8-4251-860d-0a0c72a4ba22",
   "metadata": {},
   "outputs": [],
   "source": []
  }
 ],
 "metadata": {
  "kernelspec": {
   "display_name": "Python 3 (ipykernel)",
   "language": "python",
   "name": "python3"
  },
  "language_info": {
   "codemirror_mode": {
    "name": "ipython",
    "version": 3
   },
   "file_extension": ".py",
   "mimetype": "text/x-python",
   "name": "python",
   "nbconvert_exporter": "python",
   "pygments_lexer": "ipython3",
   "version": "3.11.3"
  }
 },
 "nbformat": 4,
 "nbformat_minor": 5
}
