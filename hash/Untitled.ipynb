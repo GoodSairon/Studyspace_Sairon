{
 "cells": [
  {
   "cell_type": "code",
   "execution_count": 1,
   "id": "08a5144d",
   "metadata": {},
   "outputs": [],
   "source": [
    "class HashTable:\n",
    "    def __init__(self, size):\n",
    "        self.size = size  # Размер таблицы\n",
    "        self.table = [[] for _ in range(self.size)]  # Создаем пустую таблицу списков\n",
    "\n",
    "    def _hash_function(self, key):\n",
    "        return hash(key) % self.size  # Применяем хеш-функцию к ключу\n",
    "\n",
    "    def insert(self, key, value):\n",
    "        index = self._hash_function(key)  # Находим индекс для ключа\n",
    "        for pair in self.table[index]:\n",
    "            if pair[0] == key:  # Если ключ уже существует, обновляем значение\n",
    "                pair[1] = value\n",
    "                return\n",
    "        self.table[index].append([key, value])  # Вставляем новую пару ключ-значение\n",
    "\n",
    "    def get(self, key):\n",
    "        index = self._hash_function(key)  # Находим индекс для ключа\n",
    "        for pair in self.table[index]:\n",
    "            if pair[0] == key:  # Если ключ найден, возвращаем значение\n",
    "                return pair[1]\n",
    "        return None  # Если ключ не найден\n",
    "\n",
    "    def remove(self, key):\n",
    "        index = self._hash_function(key)  # Находим индекс для ключа\n",
    "        for i, pair in enumerate(self.table[index]):\n",
    "            if pair[0] == key:  # Если ключ найден, удаляем пару\n",
    "                del self.table[index][i]\n",
    "                return"
   ]
  },
  {
   "cell_type": "code",
   "execution_count": 2,
   "id": "96ed4f3c",
   "metadata": {},
   "outputs": [],
   "source": [
    "a = HashTable(10)"
   ]
  },
  {
   "cell_type": "code",
   "execution_count": null,
   "id": "b4219552",
   "metadata": {},
   "outputs": [],
   "source": []
  }
 ],
 "metadata": {
  "kernelspec": {
   "display_name": "Python 3 (ipykernel)",
   "language": "python",
   "name": "python3"
  },
  "language_info": {
   "codemirror_mode": {
    "name": "ipython",
    "version": 3
   },
   "file_extension": ".py",
   "mimetype": "text/x-python",
   "name": "python",
   "nbconvert_exporter": "python",
   "pygments_lexer": "ipython3",
   "version": "3.10.10"
  }
 },
 "nbformat": 4,
 "nbformat_minor": 5
}
