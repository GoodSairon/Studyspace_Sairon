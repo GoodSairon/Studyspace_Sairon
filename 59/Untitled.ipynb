{
 "cells": [
  {
   "cell_type": "code",
   "execution_count": 1,
   "id": "1c11a2f7",
   "metadata": {},
   "outputs": [],
   "source": [
    "import cv2 \n",
    "import numpy as np"
   ]
  },
  {
   "cell_type": "code",
   "execution_count": 2,
   "id": "f194f0eb",
   "metadata": {},
   "outputs": [],
   "source": [
    "def show_im(path):\n",
    "    cv2.imshow(path, cv2.imread(path))\n",
    "    cv2.waitKey(0)\n",
    "    cv2.destroyAllWindows()"
   ]
  },
  {
   "cell_type": "code",
   "execution_count": 3,
   "id": "1fed2a12",
   "metadata": {},
   "outputs": [],
   "source": [
    "show_im(\"cat.jpg\")"
   ]
  },
  {
   "cell_type": "code",
   "execution_count": 2,
   "id": "6c4188b9",
   "metadata": {},
   "outputs": [],
   "source": [
    "def sobel(path):\n",
    "    img = cv2.imread(path,cv2.IMREAD_GRAYSCALE)\n",
    "    kernel = np.array([[-1,0,1], [-2,0,2], [-1,0,1]])\n",
    "    img = cv2.filter2D(img, -1, kernel)\n",
    "    cv2.imshow(path, img)\n",
    "    cv2.waitKey(0)\n",
    "    cv2.destroyAllWindows()"
   ]
  },
  {
   "cell_type": "code",
   "execution_count": null,
   "id": "a778dca4",
   "metadata": {},
   "outputs": [],
   "source": [
    "sobel(\"cat.jpg\")"
   ]
  },
  {
   "cell_type": "code",
   "execution_count": 2,
   "id": "fdc8af28",
   "metadata": {},
   "outputs": [],
   "source": [
    "def median(path, pixel):\n",
    "    img = cv2.imread(path)\n",
    "    img = cv2.medianBlur(img, pixel)\n",
    "    cv2.imshow(path, img)\n",
    "    cv2.waitKey(0)\n",
    "    cv2.destroyAllWindows()"
   ]
  },
  {
   "cell_type": "code",
   "execution_count": 6,
   "id": "d7d635ed",
   "metadata": {},
   "outputs": [],
   "source": [
    "median(\"cat.jpg\", 3)"
   ]
  },
  {
   "cell_type": "code",
   "execution_count": null,
   "id": "769dfa56",
   "metadata": {},
   "outputs": [],
   "source": []
  }
 ],
 "metadata": {
  "kernelspec": {
   "display_name": "Python 3 (ipykernel)",
   "language": "python",
   "name": "python3"
  },
  "language_info": {
   "codemirror_mode": {
    "name": "ipython",
    "version": 3
   },
   "file_extension": ".py",
   "mimetype": "text/x-python",
   "name": "python",
   "nbconvert_exporter": "python",
   "pygments_lexer": "ipython3",
   "version": "3.11.3"
  }
 },
 "nbformat": 4,
 "nbformat_minor": 5
}
